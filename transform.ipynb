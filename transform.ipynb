{
 "cells": [
  {
   "cell_type": "code",
   "execution_count": 440,
   "id": "initial_id",
   "metadata": {
    "collapsed": true,
    "ExecuteTime": {
     "end_time": "2024-04-15T21:05:15.598320200Z",
     "start_time": "2024-04-15T21:05:15.586762700Z"
    }
   },
   "outputs": [],
   "source": [
    "import connect"
   ]
  },
  {
   "cell_type": "code",
   "execution_count": 441,
   "id": "f0ca7bcd0c5c122b",
   "metadata": {
    "ExecuteTime": {
     "end_time": "2024-04-15T21:05:15.628819500Z",
     "start_time": "2024-04-15T21:05:15.599316500Z"
    }
   },
   "outputs": [],
   "source": [
    "postgres = connect.PostgreSQLConnection(\"login_postgres.json\")"
   ]
  },
  {
   "cell_type": "code",
   "execution_count": 442,
   "id": "3bce2396f78fc10d",
   "metadata": {
    "ExecuteTime": {
     "end_time": "2024-04-15T21:05:15.644729400Z",
     "start_time": "2024-04-15T21:05:15.629818700Z"
    }
   },
   "outputs": [
    {
     "data": {
      "text/plain": "['test', 'test_1']"
     },
     "execution_count": 442,
     "metadata": {},
     "output_type": "execute_result"
    }
   ],
   "source": [
    "postgres.cursor.execute('''SELECT * FROM pg_catalog.pg_tables WHERE schemaname != 'pg_catalog' AND schemaname != 'information_schema';''')\n",
    "tables = [i[1] for i in postgres.cursor.fetchall()]\n",
    "tables"
   ]
  },
  {
   "cell_type": "code",
   "execution_count": 443,
   "outputs": [],
   "source": [
    "import pandas as pd"
   ],
   "metadata": {
    "collapsed": false,
    "ExecuteTime": {
     "end_time": "2024-04-15T21:05:15.674678800Z",
     "start_time": "2024-04-15T21:05:15.644729400Z"
    }
   },
   "id": "b6659dfdb62026dd"
  },
  {
   "cell_type": "code",
   "execution_count": 444,
   "outputs": [],
   "source": [
    "postgres.cursor.execute(f'''SELECT * FROM {tables[0]};''')\n",
    "data0 = pd.DataFrame(data=postgres.cursor.fetchall(),columns=[c[0] for c in postgres.cursor.description])\n",
    "data0.to_csv(\"test_0.csv\")"
   ],
   "metadata": {
    "collapsed": false,
    "ExecuteTime": {
     "end_time": "2024-04-15T21:05:15.678679Z",
     "start_time": "2024-04-15T21:05:15.661938500Z"
    }
   },
   "id": "a6fbeb11069e9d98"
  },
  {
   "cell_type": "code",
   "execution_count": 445,
   "outputs": [],
   "source": [
    "postgres.cursor.execute(f'''SELECT * FROM {tables[1]};''')\n",
    "data1 = pd.DataFrame(data=postgres.cursor.fetchall(),columns=[c[0] for c in postgres.cursor.description])\n",
    "data1.to_csv(\"test_1.csv\")"
   ],
   "metadata": {
    "collapsed": false,
    "ExecuteTime": {
     "end_time": "2024-04-15T21:05:15.690648900Z",
     "start_time": "2024-04-15T21:05:15.676680700Z"
    }
   },
   "id": "366bb3309a7a214b"
  },
  {
   "cell_type": "code",
   "execution_count": 446,
   "outputs": [
    {
     "data": {
      "text/plain": "                    name               surname\n0   CllUBphNKkwrdCkRZjiG  PlxWrLbWYNFvgxsELbuK\n1   clxYppuiQsRwkMeNVzTj  PfkoItYQZmMgKcITsHSD\n2   LXCIEaYcSdmlOIeWQQtY  ReFNpMNsKNCAHgzHptNs\n3   cXUnwIeZHwXbzKVOLiKE  awWryLoZzlInMgCPCWqi\n4   LLTGGVTYFeqfKvNEQAwl  vDATKstnzJdyQFGRCjSi\n..                   ...                   ...\n95  ccYTzLcqbUnJBpTTRDqQ  qaixzcXKySWqESakBcLu\n96  wzGiHnFVdcyqRKyhjhTD  qfOIizIGsHVRslmHYMEm\n97  gaggXVbxvKYjHDbfQmYY  oteduczOIlMwtfLpvuho\n98  fdDJfArDuKpniqKlYEfy  NMvIYuLvrQyBBsCUWJve\n99  eZhldZmQwswiBpFSCirx  upOVOqkZFBIkaaljRvko\n\n[100 rows x 2 columns]",
      "text/html": "<div>\n<style scoped>\n    .dataframe tbody tr th:only-of-type {\n        vertical-align: middle;\n    }\n\n    .dataframe tbody tr th {\n        vertical-align: top;\n    }\n\n    .dataframe thead th {\n        text-align: right;\n    }\n</style>\n<table border=\"1\" class=\"dataframe\">\n  <thead>\n    <tr style=\"text-align: right;\">\n      <th></th>\n      <th>name</th>\n      <th>surname</th>\n    </tr>\n  </thead>\n  <tbody>\n    <tr>\n      <th>0</th>\n      <td>CllUBphNKkwrdCkRZjiG</td>\n      <td>PlxWrLbWYNFvgxsELbuK</td>\n    </tr>\n    <tr>\n      <th>1</th>\n      <td>clxYppuiQsRwkMeNVzTj</td>\n      <td>PfkoItYQZmMgKcITsHSD</td>\n    </tr>\n    <tr>\n      <th>2</th>\n      <td>LXCIEaYcSdmlOIeWQQtY</td>\n      <td>ReFNpMNsKNCAHgzHptNs</td>\n    </tr>\n    <tr>\n      <th>3</th>\n      <td>cXUnwIeZHwXbzKVOLiKE</td>\n      <td>awWryLoZzlInMgCPCWqi</td>\n    </tr>\n    <tr>\n      <th>4</th>\n      <td>LLTGGVTYFeqfKvNEQAwl</td>\n      <td>vDATKstnzJdyQFGRCjSi</td>\n    </tr>\n    <tr>\n      <th>...</th>\n      <td>...</td>\n      <td>...</td>\n    </tr>\n    <tr>\n      <th>95</th>\n      <td>ccYTzLcqbUnJBpTTRDqQ</td>\n      <td>qaixzcXKySWqESakBcLu</td>\n    </tr>\n    <tr>\n      <th>96</th>\n      <td>wzGiHnFVdcyqRKyhjhTD</td>\n      <td>qfOIizIGsHVRslmHYMEm</td>\n    </tr>\n    <tr>\n      <th>97</th>\n      <td>gaggXVbxvKYjHDbfQmYY</td>\n      <td>oteduczOIlMwtfLpvuho</td>\n    </tr>\n    <tr>\n      <th>98</th>\n      <td>fdDJfArDuKpniqKlYEfy</td>\n      <td>NMvIYuLvrQyBBsCUWJve</td>\n    </tr>\n    <tr>\n      <th>99</th>\n      <td>eZhldZmQwswiBpFSCirx</td>\n      <td>upOVOqkZFBIkaaljRvko</td>\n    </tr>\n  </tbody>\n</table>\n<p>100 rows × 2 columns</p>\n</div>"
     },
     "execution_count": 446,
     "metadata": {},
     "output_type": "execute_result"
    }
   ],
   "source": [
    "data0.reset_index()\n",
    "data0.drop(\"id\",axis=1,inplace=True)\n",
    "data0"
   ],
   "metadata": {
    "collapsed": false,
    "ExecuteTime": {
     "end_time": "2024-04-15T21:05:15.715218400Z",
     "start_time": "2024-04-15T21:05:15.692152400Z"
    }
   },
   "id": "e68a20808d8803d0"
  },
  {
   "cell_type": "code",
   "execution_count": 447,
   "outputs": [],
   "source": [
    "import pandas_decimal\n",
    "data1.reset_index()\n",
    "data1.drop(\"id\",axis=1,inplace=True)"
   ],
   "metadata": {
    "collapsed": false,
    "ExecuteTime": {
     "end_time": "2024-04-15T21:05:15.753379300Z",
     "start_time": "2024-04-15T21:05:15.707186400Z"
    }
   },
   "id": "4c83e14dd59dc92b"
  },
  {
   "cell_type": "code",
   "execution_count": 448,
   "outputs": [
    {
     "data": {
      "text/plain": "     salary                  city               country\n0   1061.56  NzRMVaONPdQXgoqdCUeq  MuBviFjvjHslOlPTXZfr\n1   8749.45  YZEwjweOVYisDNjnVphZ  wCnuRLaJgxWTNeKNOVBd\n2   1919.24  uTImtHBSkGZlCHmUJyXI  ZhryLqcHkVoqwjCQBRlS\n3   2355.19  gbvwpzInpwiZXQudYmnc  wAMTzCmwBhSxXxgGGWVY\n4   9426.76  uGuqVEnJRyTwdzdIsXJO  oHppmsaVQaiAVAVxpNkk\n..      ...                   ...                   ...\n95  2767.67  HJGMWNbLNDrjXCrummSG  rTJPkbYGSEOvxqlPSfXh\n96  8494.42  KMYwuATqfdsoyaegDPxV  ojEcXpXkdvxwzOBTvfdJ\n97  6527.85  QiLrdbFEmWhxuGeLMZpx  NpmoOBaXPVAVIBjxnxwq\n98  5236.09  RYtVewZccabhiKEJzmoZ  ZUukWDKWsNDCSchekHFF\n99  5849.19  bkKUViWtwHmPenqfflht  KEKMOUknVPrFXynahAKB\n\n[100 rows x 3 columns]",
      "text/html": "<div>\n<style scoped>\n    .dataframe tbody tr th:only-of-type {\n        vertical-align: middle;\n    }\n\n    .dataframe tbody tr th {\n        vertical-align: top;\n    }\n\n    .dataframe thead th {\n        text-align: right;\n    }\n</style>\n<table border=\"1\" class=\"dataframe\">\n  <thead>\n    <tr style=\"text-align: right;\">\n      <th></th>\n      <th>salary</th>\n      <th>city</th>\n      <th>country</th>\n    </tr>\n  </thead>\n  <tbody>\n    <tr>\n      <th>0</th>\n      <td>1061.56</td>\n      <td>NzRMVaONPdQXgoqdCUeq</td>\n      <td>MuBviFjvjHslOlPTXZfr</td>\n    </tr>\n    <tr>\n      <th>1</th>\n      <td>8749.45</td>\n      <td>YZEwjweOVYisDNjnVphZ</td>\n      <td>wCnuRLaJgxWTNeKNOVBd</td>\n    </tr>\n    <tr>\n      <th>2</th>\n      <td>1919.24</td>\n      <td>uTImtHBSkGZlCHmUJyXI</td>\n      <td>ZhryLqcHkVoqwjCQBRlS</td>\n    </tr>\n    <tr>\n      <th>3</th>\n      <td>2355.19</td>\n      <td>gbvwpzInpwiZXQudYmnc</td>\n      <td>wAMTzCmwBhSxXxgGGWVY</td>\n    </tr>\n    <tr>\n      <th>4</th>\n      <td>9426.76</td>\n      <td>uGuqVEnJRyTwdzdIsXJO</td>\n      <td>oHppmsaVQaiAVAVxpNkk</td>\n    </tr>\n    <tr>\n      <th>...</th>\n      <td>...</td>\n      <td>...</td>\n      <td>...</td>\n    </tr>\n    <tr>\n      <th>95</th>\n      <td>2767.67</td>\n      <td>HJGMWNbLNDrjXCrummSG</td>\n      <td>rTJPkbYGSEOvxqlPSfXh</td>\n    </tr>\n    <tr>\n      <th>96</th>\n      <td>8494.42</td>\n      <td>KMYwuATqfdsoyaegDPxV</td>\n      <td>ojEcXpXkdvxwzOBTvfdJ</td>\n    </tr>\n    <tr>\n      <th>97</th>\n      <td>6527.85</td>\n      <td>QiLrdbFEmWhxuGeLMZpx</td>\n      <td>NpmoOBaXPVAVIBjxnxwq</td>\n    </tr>\n    <tr>\n      <th>98</th>\n      <td>5236.09</td>\n      <td>RYtVewZccabhiKEJzmoZ</td>\n      <td>ZUukWDKWsNDCSchekHFF</td>\n    </tr>\n    <tr>\n      <th>99</th>\n      <td>5849.19</td>\n      <td>bkKUViWtwHmPenqfflht</td>\n      <td>KEKMOUknVPrFXynahAKB</td>\n    </tr>\n  </tbody>\n</table>\n<p>100 rows × 3 columns</p>\n</div>"
     },
     "execution_count": 448,
     "metadata": {},
     "output_type": "execute_result"
    }
   ],
   "source": [
    "data1[\"salary\"] = data1.salary.apply(lambda x: abs(x)).astype(\"decimal[2]\")\n",
    "data1"
   ],
   "metadata": {
    "collapsed": false,
    "ExecuteTime": {
     "end_time": "2024-04-15T21:05:15.761882400Z",
     "start_time": "2024-04-15T21:05:15.724581300Z"
    }
   },
   "id": "d86acc21099ebccf"
  },
  {
   "cell_type": "code",
   "execution_count": 449,
   "outputs": [],
   "source": [
    "data = pd.concat([data0,data1],axis=1)\n",
    "mysql = connect.MySQLConnection(\"login_mysql.json\")"
   ],
   "metadata": {
    "collapsed": false,
    "ExecuteTime": {
     "end_time": "2024-04-15T21:05:15.761882400Z",
     "start_time": "2024-04-15T21:05:15.738662800Z"
    }
   },
   "id": "f3c6b7bc7d938abe"
  },
  {
   "cell_type": "code",
   "execution_count": 450,
   "outputs": [
    {
     "data": {
      "text/plain": "                   name               surname   salary  city country\n0  CllUBphNKkwrdCkRZjiG  PlxWrLbWYNFvgxsELbuK  1061.56  Nrvo   Mubvi\n1  clxYppuiQsRwkMeNVzTj  PfkoItYQZmMgKcITsHSD  8749.45  Yeje   Wcnur\n2  LXCIEaYcSdmlOIeWQQtY  ReFNpMNsKNCAHgzHptNs  1919.24  Uitb   Zhryl\n3  cXUnwIeZHwXbzKVOLiKE  awWryLoZzlInMgCPCWqi  2355.19  Gvpi   Wamtz\n4  LLTGGVTYFeqfKvNEQAwl  vDATKstnzJdyQFGRCjSi  9426.76  Uuvn   Ohppm",
      "text/html": "<div>\n<style scoped>\n    .dataframe tbody tr th:only-of-type {\n        vertical-align: middle;\n    }\n\n    .dataframe tbody tr th {\n        vertical-align: top;\n    }\n\n    .dataframe thead th {\n        text-align: right;\n    }\n</style>\n<table border=\"1\" class=\"dataframe\">\n  <thead>\n    <tr style=\"text-align: right;\">\n      <th></th>\n      <th>name</th>\n      <th>surname</th>\n      <th>salary</th>\n      <th>city</th>\n      <th>country</th>\n    </tr>\n  </thead>\n  <tbody>\n    <tr>\n      <th>0</th>\n      <td>CllUBphNKkwrdCkRZjiG</td>\n      <td>PlxWrLbWYNFvgxsELbuK</td>\n      <td>1061.56</td>\n      <td>Nrvo</td>\n      <td>Mubvi</td>\n    </tr>\n    <tr>\n      <th>1</th>\n      <td>clxYppuiQsRwkMeNVzTj</td>\n      <td>PfkoItYQZmMgKcITsHSD</td>\n      <td>8749.45</td>\n      <td>Yeje</td>\n      <td>Wcnur</td>\n    </tr>\n    <tr>\n      <th>2</th>\n      <td>LXCIEaYcSdmlOIeWQQtY</td>\n      <td>ReFNpMNsKNCAHgzHptNs</td>\n      <td>1919.24</td>\n      <td>Uitb</td>\n      <td>Zhryl</td>\n    </tr>\n    <tr>\n      <th>3</th>\n      <td>cXUnwIeZHwXbzKVOLiKE</td>\n      <td>awWryLoZzlInMgCPCWqi</td>\n      <td>2355.19</td>\n      <td>Gvpi</td>\n      <td>Wamtz</td>\n    </tr>\n    <tr>\n      <th>4</th>\n      <td>LLTGGVTYFeqfKvNEQAwl</td>\n      <td>vDATKstnzJdyQFGRCjSi</td>\n      <td>9426.76</td>\n      <td>Uuvn</td>\n      <td>Ohppm</td>\n    </tr>\n  </tbody>\n</table>\n</div>"
     },
     "execution_count": 450,
     "metadata": {},
     "output_type": "execute_result"
    }
   ],
   "source": [
    "data[\"city\"] = data[\"city\"].str.capitalize().str[0:8:2]\n",
    "data.country = data.country.str.capitalize().str[0:5]\n",
    "data.head(5)"
   ],
   "metadata": {
    "collapsed": false,
    "ExecuteTime": {
     "end_time": "2024-04-15T21:05:15.795768900Z",
     "start_time": "2024-04-15T21:05:15.755379600Z"
    }
   },
   "id": "c3c5aaba12fbc7d2"
  },
  {
   "cell_type": "code",
   "execution_count": 451,
   "outputs": [
    {
     "data": {
      "text/plain": "100"
     },
     "execution_count": 451,
     "metadata": {},
     "output_type": "execute_result"
    }
   ],
   "source": [
    "from sqlalchemy import create_engine\n",
    "engine = create_engine(\"mysql://{user}:{pw}@{host}/{db}\".format(host=mysql.access_data[\"host\"], db=mysql.access_data[\"database\"], user=mysql.access_data[\"user\"], pw=mysql.access_data[\"password\"]))\n",
    "data.to_sql('table1', engine, if_exists='replace', index=True)"
   ],
   "metadata": {
    "collapsed": false,
    "ExecuteTime": {
     "end_time": "2024-04-15T21:05:15.850340700Z",
     "start_time": "2024-04-15T21:05:15.770688400Z"
    }
   },
   "id": "65cb66d50f99a71b"
  }
 ],
 "metadata": {
  "kernelspec": {
   "display_name": "Python 3 (ipykernel)",
   "language": "python",
   "name": "python3"
  },
  "language_info": {
   "codemirror_mode": {
    "name": "ipython",
    "version": 3
   },
   "file_extension": ".py",
   "mimetype": "text/x-python",
   "name": "python",
   "nbconvert_exporter": "python",
   "pygments_lexer": "ipython3",
   "version": "3.11.4"
  }
 },
 "nbformat": 4,
 "nbformat_minor": 5
}
